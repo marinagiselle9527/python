{
 "cells": [
  {
   "cell_type": "code",
   "execution_count": 13,
   "metadata": {},
   "outputs": [
    {
     "name": "stdout",
     "output_type": "stream",
     "text": [
      "The can contains peaches\n",
      "The bag contains apples\n",
      "The box contains potatoes\n",
      "The crate contains pears\n",
      "The bucket contains cucumbers\n"
     ]
    }
   ],
   "source": [
    "# five container variables with fruits/vegetables \n",
    "can= \"peaches\"\n",
    "print \"The can contains \" + can \n",
    "bag= \"apples\"\n",
    "print \"The bag contains \" + bag\n",
    "box= \"potatoes\"\n",
    "print \"The box contains \" + box \n",
    "crate= \"pears\"\n",
    "print \"The crate contains \" + crate\n",
    "bucket= \"cucumbers\"\n",
    "print \"The bucket contains \" + bucket"
   ]
  },
  {
   "cell_type": "code",
   "execution_count": 30,
   "metadata": {},
   "outputs": [
    {
     "name": "stdout",
     "output_type": "stream",
     "text": [
      "Klavan said that producers have \"called my agent asking, 'Why would you represent this guy?'Anything that lowers your odds is going to hurt.\"\n"
     ]
    }
   ],
   "source": [
    "# sentence stored as a variable\n",
    "sentence = \"Klavan said that producers have \\\"called my agent asking, 'Why would you represent this guy?'Anything that lowers your odds is going to hurt.\\\"\"\n",
    "print sentence "
   ]
  },
  {
   "cell_type": "code",
   "execution_count": 36,
   "metadata": {},
   "outputs": [],
   "source": [
    "# list of presidents as strings\n",
    "presidents = [ \"Bill Clinton\", \"Barack Obama\" , \"Franklin D. Roosevelt\" , \"Richard Nixon\" , \"Ronald Reagan\" ]\n"
   ]
  },
  {
   "cell_type": "code",
   "execution_count": 39,
   "metadata": {},
   "outputs": [
    {
     "name": "stdout",
     "output_type": "stream",
     "text": [
      "['Bill Clinton', 'Barack Obama', 'Franklin D. Roosevelt', 'Richard Nixon', 'Ronald Reagan']\n"
     ]
    }
   ],
   "source": [
    "print presidents"
   ]
  },
  {
   "cell_type": "code",
   "execution_count": 40,
   "metadata": {},
   "outputs": [
    {
     "name": "stdout",
     "output_type": "stream",
     "text": [
      "Richard Nixon\n"
     ]
    }
   ],
   "source": [
    "print presidents[3]"
   ]
  },
  {
   "cell_type": "code",
   "execution_count": 41,
   "metadata": {},
   "outputs": [],
   "source": [
    "birthyears = {\"Bill Clinton\":\"1946\",\"Barack Obama\":\"1961\",\"Franklin D. Roosevelt\":\"1882\",\"Richard Nixon\":\"1913\",\"Ronald Reagan\":\"1911\"}"
   ]
  },
  {
   "cell_type": "code",
   "execution_count": 42,
   "metadata": {},
   "outputs": [
    {
     "name": "stdout",
     "output_type": "stream",
     "text": [
      "{'Bill Clinton': '1946', 'Richard Nixon': '1913', 'Franklin D. Roosevelt': '1882', 'Barack Obama': '1961', 'Ronald Reagan': '1911'}\n"
     ]
    }
   ],
   "source": [
    "#list of presidents with their matching birthyears\n",
    "print birthyears"
   ]
  },
  {
   "cell_type": "code",
   "execution_count": 46,
   "metadata": {},
   "outputs": [
    {
     "name": "stdout",
     "output_type": "stream",
     "text": [
      "1911\n"
     ]
    }
   ],
   "source": [
    "print birthyears[\"Ronald Reagan\"]"
   ]
  },
  {
   "cell_type": "code",
   "execution_count": 57,
   "metadata": {},
   "outputs": [
    {
     "name": "stdout",
     "output_type": "stream",
     "text": [
      "{'Bill Clinton': 1946, 'Richard Nixon': 1913, 'Franklin D. Roosevelt': 1882, 'Barack Obama': 1961, 'Ronald Reagan': 1911}\n"
     ]
    }
   ],
   "source": [
    "# dictionary called pData of presidents with matching birth years\n",
    "pData = {\n",
    "\t\t\"Bill Clinton\" : 1946,\n",
    "\t\t\"Richard Nixon\" : 1913,\n",
    "\t\t\"Franklin D. Roosevelt\" : 1882,\n",
    "\t\t\"Barack Obama\" : 1961,\n",
    "\t\t\"Ronald Reagan\" : 1911\n",
    "\t}\n",
    "print pData"
   ]
  }
 ],
 "metadata": {
  "kernelspec": {
   "display_name": "Python 2",
   "language": "python",
   "name": "python2"
  },
  "language_info": {
   "codemirror_mode": {
    "name": "ipython",
    "version": 2
   },
   "file_extension": ".py",
   "mimetype": "text/x-python",
   "name": "python",
   "nbconvert_exporter": "python",
   "pygments_lexer": "ipython2",
   "version": "2.7.10"
  }
 },
 "nbformat": 4,
 "nbformat_minor": 2
}
